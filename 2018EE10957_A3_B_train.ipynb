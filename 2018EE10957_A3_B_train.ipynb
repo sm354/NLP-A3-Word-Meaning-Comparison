{
 "cells": [
  {
   "cell_type": "markdown",
   "metadata": {
    "id": "FWjwfx8T5OAJ"
   },
   "source": [
    "Make a copy of this notebook and rename using your USERID in the following format, 2017CSZ8058\n",
    "\n",
    "Give editor access to keshavkolluru@gmail.com, vishalsaley114@gmail.com and kartikeya.badola@gmail.com\n"
   ]
  },
  {
   "cell_type": "code",
   "execution_count": null,
   "metadata": {
    "colab": {
     "base_uri": "https://localhost:8080/"
    },
    "id": "spAvH1fF0Rhg",
    "outputId": "03fd1ef6-84df-4609-ea4e-64022145e89f"
   },
   "outputs": [
    {
     "name": "stdout",
     "output_type": "stream",
     "text": [
      "--2021-10-21 20:16:08--  http://www.cse.iitd.ac.in/~mausam/courses/col772/autumn2021/A3/data.zip\n",
      "Resolving www.cse.iitd.ac.in (www.cse.iitd.ac.in)... 103.27.9.152\n",
      "Connecting to www.cse.iitd.ac.in (www.cse.iitd.ac.in)|103.27.9.152|:80... connected.\n",
      "HTTP request sent, awaiting response... 301 Moved Permanently\n",
      "Location: https://www.cse.iitd.ac.in/~mausam/courses/col772/autumn2021/A3/data.zip [following]\n",
      "--2021-10-21 20:16:09--  https://www.cse.iitd.ac.in/~mausam/courses/col772/autumn2021/A3/data.zip\n",
      "Connecting to www.cse.iitd.ac.in (www.cse.iitd.ac.in)|103.27.9.152|:443... connected.\n",
      "HTTP request sent, awaiting response... 200 OK\n",
      "Length: 217313 (212K) [application/zip]\n",
      "Saving to: ‘data.zip’\n",
      "\n",
      "data.zip            100%[===================>] 212.22K   115KB/s    in 1.8s    \n",
      "\n",
      "2021-10-21 20:16:12 (115 KB/s) - ‘data.zip’ saved [217313/217313]\n",
      "\n"
     ]
    }
   ],
   "source": [
    "## DONT CHANGE THIS CELL\n",
    "!wget http://www.cse.iitd.ac.in/~mausam/courses/col772/autumn2021/A3/data.zip"
   ]
  },
  {
   "cell_type": "code",
   "execution_count": null,
   "metadata": {
    "colab": {
     "base_uri": "https://localhost:8080/"
    },
    "id": "yARdz5vOTSgW",
    "outputId": "9c0f9a8d-50b4-47cc-908d-6de336462535",
    "scrolled": true
   },
   "outputs": [
    {
     "name": "stdout",
     "output_type": "stream",
     "text": [
      "Archive:  data.zip\n",
      "   creating: data/\n",
      "   creating: data/train/\n",
      "  inflating: data/train/train.gold.txt  \n",
      "  inflating: data/train/train.data.txt  \n",
      "   creating: data/validation/\n",
      "  inflating: data/validation/validation.data.txt  \n",
      "  inflating: data/validation/validation.gold.txt  \n"
     ]
    }
   ],
   "source": [
    "!unzip data.zip"
   ]
  },
  {
   "cell_type": "code",
   "execution_count": 5,
   "metadata": {
    "id": "LrnkLN2LzlDB"
   },
   "outputs": [],
   "source": [
    "import os\n",
    "import time\n",
    "import random\n",
    "import spacy\n",
    "import dill\n",
    "from tqdm import tqdm\n",
    "import datetime\n",
    "import numpy as np\n",
    "import pandas\n",
    "import logging\n",
    "from argparse import ArgumentParser\n",
    "from pdb import set_trace\n",
    "import torch\n",
    "import torch.optim as O\n",
    "import torch.nn as nn\n",
    "import torch.nn.functional as F\n",
    "from torch.optim.lr_scheduler import StepLR\n",
    "from torchtext.legacy import data\n",
    "from torchtext.data.utils import get_tokenizer"
   ]
  },
  {
   "cell_type": "code",
   "execution_count": 2,
   "metadata": {
    "id": "jyW7u0t4TVxj"
   },
   "outputs": [],
   "source": [
    "## Various utility functions\n",
    "class args_class:\n",
    "    dataset = \"data/\"\n",
    "    model = \"biLSTM\"\n",
    "    gpu = 0\n",
    "    batch_size = 32\n",
    "    epochs = 20\n",
    "    hidden_dim = 64\n",
    "    lr = 0.001\n",
    "    results_dir = \"2018EE10957_B_model\""
   ]
  },
  {
   "cell_type": "code",
   "execution_count": 3,
   "metadata": {
    "id": "sr3ok6g51O_d"
   },
   "outputs": [],
   "source": [
    "def set_seed(seed=4):\n",
    "\t# fixing seeds to reproduce results (exact!)\n",
    "\ttorch.manual_seed(seed)\n",
    "\trandom.seed(seed)\n",
    "\tnp.random.seed(seed)\n",
    "    \n",
    "def parse_args():\n",
    "\t# parser = ArgumentParser(description='NLI Baseline')\n",
    "\t# parser.add_argument('--dataset', '-d', type=str, default='mnli')\n",
    "\t# parser.add_argument('--model', '-m', type=str, default='bilstm')\n",
    "\t# parser.add_argument('--gpu', type=int, default=0)\n",
    "\t# parser.add_argument('--batch_size', type=int, default=128)\n",
    "\t# parser.add_argument('--embed_dim', type=int, default=300)\n",
    "\t# parser.add_argument('--epochs', type=int, default=20)\n",
    "\t# parser.add_argument('--lr', type=float, default=0.001)\n",
    "\t# parser.add_argument('--results_dir', type=str, default='results')\n",
    "\targs = args_class()\n",
    "\treturn check_args(args)\n",
    "\n",
    "\"\"\"checking arguments\"\"\"\n",
    "def check_args(args):\n",
    "\t# --result_dir\n",
    "\tcheck_folder(os.path.join(args.dataset))\n",
    "\tcheck_folder(os.path.join(args.results_dir))\n",
    "\n",
    "\t# --epoch\n",
    "\ttry:\n",
    "\t\t\tassert args.epochs >= 1\n",
    "\texcept:\n",
    "\t\t\tprint('number of epochs must be larger than or equal to one')\n",
    "\n",
    "\t# --batch_size\n",
    "\ttry:\n",
    "\t\t\tassert args.batch_size >= 1\n",
    "\texcept:\n",
    "\t\t\tprint('batch size must be larger than or equal to one')\n",
    "\treturn args\n",
    "\n",
    "def get_device(gpu_no):\n",
    "\tif torch.cuda.is_available():\n",
    "\t\ttorch.cuda.set_device(gpu_no)\n",
    "\t\treturn torch.device('cuda:{}'.format(gpu_no))\n",
    "\telse:\n",
    "\t\treturn torch.device('cpu')\n",
    "\n",
    "def makedirs(name):\n",
    "\t\"\"\"helper function for python 2 and 3 to call os.makedirs()\n",
    "\t\tavoiding an error if the directory to be created already exists\"\"\"\n",
    "\n",
    "\timport os, errno\n",
    "\n",
    "\ttry:\n",
    "\t\tos.makedirs(name)\n",
    "\texcept OSError as ex:\n",
    "\t\tif ex.errno == errno.EEXIST and os.path.isdir(name):\n",
    "\t\t\t# ignore existing directory\n",
    "\t\t\tpass\n",
    "\t\telse:\n",
    "\t\t\t# a different error happened\n",
    "\t\t\traise\n",
    "\n",
    "def check_folder(log_dir):\n",
    "\tif not os.path.exists(log_dir):\n",
    "\t\tos.makedirs(log_dir)\n",
    "\treturn log_dir\n",
    "\n",
    "def get_logger(args, phase):\n",
    "\tlogging.basicConfig(level=logging.INFO, \n",
    "\t\t\t\t\t\t\t\t\t\t\t\tfilename = \"{}_{}.log\".format(args.model, phase),\n",
    "\t\t\t\t\t\t\t\t\t\t\t\tformat = '%(asctime)s - %(message)s', \n",
    "\t\t\t\t\t\t\t\t\t\t\t\tdatefmt='%d-%b-%y %H:%M:%S')\n",
    "\treturn logging.getLogger(phase)"
   ]
  },
  {
   "cell_type": "code",
   "execution_count": 4,
   "metadata": {
    "id": "14EjR4tmz2x5"
   },
   "outputs": [],
   "source": [
    "def process_data(path, train=True):\n",
    "    train = \"train\" if train else \"validation\"\n",
    "    x_train = pandas.read_csv(os.path.join(path, \"%s/%s.data.txt\"%(train, train)), delimiter='\\t', header=None, names=['word', 'POS', 'position', 'sen1', 'sen2'])\n",
    "    y_train = pandas.read_csv(os.path.join(path, \"%s/%s.gold.txt\"%(train, train)), header=None, names=['label'])\n",
    "    dataset = pandas.concat((x_train, y_train), axis=1)\n",
    "    word1 = dataset.loc[:,'position'].apply(lambda positions : positions.split(\"-\")[0])\n",
    "    word2 = dataset.loc[:,'position'].apply(lambda positions : positions.split(\"-\")[1])\n",
    "    dataset = dataset.drop(\"position\", axis=1)\n",
    "    dataset.loc[:, \"POS\"] = dataset.loc[:, \"POS\"].apply(lambda POS_TAG : 0 if POS_TAG==\"V\" else 1)\n",
    "    dataset.loc[:, \"label\"] = dataset.loc[:, \"label\"].apply(lambda lab : 0 if lab==\"F\" else 1)\n",
    "    dataset.insert(3, \"word1\", word1)\n",
    "    dataset.insert(5, \"word2\", word2)\n",
    "    dataset.to_csv(os.path.join(path, \"%s/%s.csv\"%(train, train)), header=None, index=False)\n",
    "\n",
    "en = spacy.load('en_core_web_sm')\n",
    "def tokeni(sen):\n",
    "    t = en.tokenizer(sen)\n",
    "    return [word.text for word in t]\n",
    "\n",
    "class myDataset:\n",
    "    def __init__(self, args):\n",
    "        self.args = args\n",
    "        \n",
    "        process_data(args.dataset, train=True)\n",
    "        process_data(args.dataset, train=False)\n",
    "\n",
    "        TEXT = data.Field(\n",
    "            sequential=True,\n",
    "            lower=True,\n",
    "            tokenize=tokeni, \n",
    "        )\n",
    "        # get_tokenizer(\"basic_english\"),\n",
    "        fields = [\n",
    "            ('word', TEXT),\n",
    "            ('POS', data.Field(use_vocab=False, sequential=False)), \n",
    "            ('sen1', TEXT),\n",
    "            ('word1', data.Field(use_vocab=False, sequential=False)),\n",
    "            ('sen2', TEXT),\n",
    "            ('word2', data.Field(use_vocab=False, sequential=False)),\n",
    "            ('label', data.Field(use_vocab=False, sequential=False)),\n",
    "        ]\n",
    "\n",
    "        train_set, val_set = data.TabularDataset.splits(\n",
    "            path = args.dataset,\n",
    "            train = 'train/train.csv',\n",
    "            validation = 'validation/validation.csv',\n",
    "            format = 'csv',\n",
    "            fields = fields,\n",
    "            skip_header = False,\n",
    "        )\n",
    "\n",
    "        TEXT.build_vocab(train_set, vectors='glove.6B.300d')\n",
    "\n",
    "        train_itr, val_itr = data.BucketIterator.splits(\n",
    "            (train_set, val_set),\n",
    "            #sort_key = lambda sample : len(sample.sen1),\n",
    "            sort = False,\n",
    "            batch_size = args.batch_size,\n",
    "        )\n",
    "\n",
    "        # my = TEXT.vocab.vectors\n",
    "        # zero = torch.zeros(300)\n",
    "        # zero_embs = ((my==zero).sum(axis=1) == 300)\n",
    "        # zero_embs[0:2] = torch.tensor([False, False])\n",
    "        # # zero_embs.sum()\n",
    "        # TEXT.vocab.vectors[zero_embs] = torch.rand(zero_embs.sum(),300)\n",
    "        # zero_embs = ((TEXT.vocab.vectors==zero).sum(axis=1) == 300)\n",
    "        # # zero_embs[0:2] = torch.tensor([False, False])\n",
    "        # print(\"zero embeddings in TEXT.vocab.vectors\", zero_embs.sum())\n",
    "\n",
    "        with open(os.path.join(self.args.results_dir, \"Field_TEXT\"), 'wb') as f:\n",
    "            dill.dump(TEXT, f)\n",
    "        print(\"TEXT Field saved in %s\"%self.args.results_dir)\n",
    "        \n",
    "        self.vocab = TEXT.vocab\n",
    "        self.train_iter = train_itr\n",
    "        self.dev_iter = val_itr\n",
    "        self.TEXT = TEXT\n",
    "        self.train_set = train_set\n",
    "        self.val_set = val_set"
   ]
  },
  {
   "cell_type": "code",
   "execution_count": 5,
   "metadata": {
    "id": "q383CZB3TzI4"
   },
   "outputs": [],
   "source": [
    "class myModel(nn.Module):\n",
    "    def __init__(self, pretrained_embeddings, embed_dim=100, hidden_dim=100, device=torch.device('cpu')):\n",
    "        super(myModel, self).__init__()\n",
    "        self.embed_dim = embed_dim\n",
    "        self.hidden_dim = hidden_dim\n",
    "        self.device = device\n",
    "        \n",
    "        self.embedding = nn.Embedding.from_pretrained(pretrained_embeddings, freeze=True)\n",
    "        # self.dropout = nn.Dropout(p = 0.5)\n",
    "        self.bilstm = nn.LSTM(embed_dim, hidden_dim, bidirectional=False, batch_first=True, num_layers=2)\n",
    "        # self.fc = nn.Linear(hidden_dim, 2)\n",
    "        # self.attn = nn.MultiheadAttention(embed_dim=300, num_heads=4, batch_first=True) #self.hidden_dim\n",
    "        self.similarity = nn.CosineSimilarity(dim=1)\n",
    "        self.sigmoid = nn.Sigmoid()\n",
    "\n",
    "    def forward(self, input):\n",
    "        '''\n",
    "            [torchtext.legacy.data.batch.Batch of size 32]\n",
    "                [.word]:[torch.LongTensor of size 1x32]\n",
    "                [.POS]:[torch.LongTensor of size 32]\n",
    "                [.sen1]:[torch.LongTensor of size 17x32]\n",
    "                [.word1]:[torch.LongTensor of size 32]\n",
    "                [.sen2]:[torch.LongTensor of size 26x32]\n",
    "                [.word2]:[torch.LongTensor of size 32]\n",
    "                [.label]:[torch.LongTensor of size 32]\n",
    "        '''\n",
    "        input1 = input.sen1.permute(1,0).to(self.device)\n",
    "        input2 = input.sen2.permute(1,0).to(self.device)\n",
    "\n",
    "        # embed the tokens (indices in the vocab) \n",
    "        # out1 = self.dropout(self.embedding(input1))\n",
    "        # out2 = self.dropout(self.embedding(input2))\n",
    "        out1 = self.embedding(input1)\n",
    "        out2 = self.embedding(input2)\n",
    "        \n",
    "        out1, (_, _) = self.bilstm(out1)\n",
    "        out2, (_, _) = self.bilstm(out2)\n",
    "        \n",
    "        # mask1 = (input1 == 1)\n",
    "        # mask2 = (input2 == 1)\n",
    "\n",
    "        # attention box\n",
    "        # (out1, _) = self.attn(out1, out1, out1, key_padding_mask=mask1)\n",
    "        # (out2, _) = self.attn(out2, out2, out2, key_padding_mask=mask2)\n",
    "        \n",
    "        # word of interest\n",
    "        woi1_idx = torch.repeat_interleave(torch.unsqueeze(torch.unsqueeze(input.word1, 1), 2), self.hidden_dim, dim=2).to(self.device)\n",
    "        woi2_idx = torch.repeat_interleave(torch.unsqueeze(torch.unsqueeze(input.word2, 1), 2), self.hidden_dim, dim=2).to(self.device)\n",
    "        \n",
    "        # gather the word of interest for each sentence in the batch\n",
    "        out1 = torch.gather(input=out1, dim=1, index=woi1_idx).squeeze()\n",
    "        out2 = torch.gather(input=out2, dim=1, index=woi2_idx).squeeze()\n",
    "        \n",
    "        # linear layer\n",
    "        #out1 = self.fc(out1)\n",
    "        #out2 = self.fc(out2)\n",
    "        \n",
    "        # compute scores of similarity\n",
    "        out = self.similarity(out1, out2)\n",
    "        out = self.sigmoid(out)\n",
    "        # try:\n",
    "        #     assert out.shape[0] == self.bs\n",
    "        # except:\n",
    "        #     print(\"AssertionError\", out.shape[0], self.bs) # all samples are touched in a epoch\n",
    "\n",
    "        return out"
   ]
  },
  {
   "cell_type": "code",
   "execution_count": 6,
   "metadata": {
    "id": "Rl5jiYUuTzBg"
   },
   "outputs": [],
   "source": [
    "set_seed()\n",
    "\n",
    "class Train():\n",
    "    def __init__(self):\n",
    "        print(\"program execution start: {}\".format(datetime.datetime.now()))\n",
    "        self.args = parse_args()\n",
    "        self.device = get_device(self.args.gpu)\n",
    "        self.logger = get_logger(self.args, \"train\")\n",
    "        self.logger.info(\"Arguments: {}\".format(self.args))\n",
    "\n",
    "        dataset_options = {\n",
    "            'batch_size': self.args.batch_size, \n",
    "            'device': self.device\n",
    "            }\n",
    "\n",
    "        self.dataset = myDataset(self.args)\n",
    "        self.vocab = self.dataset.vocab\n",
    "        self.embed_dim = self.vocab.vectors.shape[1]\n",
    "\n",
    "        self.model = myModel(self.vocab.vectors, self.embed_dim, self.args.hidden_dim, self.device)\n",
    "\n",
    "        self.model = self.model.to(self.device)\n",
    "        self.criterion = nn.BCELoss()\n",
    "        self.opt = O.Adam(self.model.parameters(), lr = self.args.lr) #, weight_decay=0.005)\n",
    "        self.best_val_acc = None\n",
    "        # self.scheduler = StepLR(self.opt, step_size=5, gamma=0.5)\n",
    "\n",
    "        print(\"resource preparation done: {}\".format(datetime.datetime.now()))\n",
    "\n",
    "    def train(self,epoch):\n",
    "        self.model.train() #; self.dataset.train_iter.init_epoch()\n",
    "        n_correct, n_total, n_loss = 0, 0, 0\n",
    "        for batch_idx, batch in enumerate(self.dataset.train_iter):\n",
    "            # if batch.batch_size != self.args.batch_size:\n",
    "            #     print(batch.batch_size)\n",
    "            self.opt.zero_grad()\n",
    "            batch.label = batch.label.to(self.device)\n",
    "            answer = self.model(batch)\n",
    "            loss = self.criterion(answer, batch.label.float())\n",
    "            answer = (answer>=0.5).long()\n",
    "\n",
    "            n_correct += (answer == batch.label).sum().item()\n",
    "            n_total += batch.batch_size\n",
    "            n_loss += loss.item()\n",
    "\n",
    "            loss.backward()\n",
    "            # nn.utils.clip_grad_norm_(self.model.parameters(), 1, error_if_nonfinite=True)\n",
    "            self.opt.step()\n",
    "        # if epoch == 20:\n",
    "            # set_trace()\n",
    "        train_loss = n_loss/n_total\n",
    "        train_acc = 100. * n_correct/n_total\n",
    "        return train_loss, train_acc\n",
    "\n",
    "    def validate(self,epoch):\n",
    "        self.model.eval() #; self.dataset.dev_iter.init_epoch()\n",
    "        n_correct, n_total, n_loss = 0, 0, 0\n",
    "        with torch.no_grad():\n",
    "            for batch_idx, batch in enumerate(self.dataset.dev_iter):\n",
    "                batch.label = batch.label.to(self.device)\n",
    "                answer = self.model(batch)\n",
    "                loss = self.criterion(answer, batch.label.float())\n",
    "                answer = (answer>=0.5).long()\n",
    "\n",
    "                n_correct += (answer == batch.label).sum().item()\n",
    "                n_total += batch.batch_size\n",
    "                n_loss += loss.item()\n",
    "\n",
    "            val_loss = n_loss/n_total\n",
    "            val_acc = 100. * n_correct/n_total\n",
    "            return val_loss, val_acc\n",
    "\n",
    "    def result_checkpoint(self, epoch, train_loss, val_loss, train_acc, val_acc, took):\n",
    "        if self.best_val_acc is None or val_acc > self.best_val_acc:\n",
    "            self.best_val_acc = val_acc\n",
    "            torch.save({\n",
    "                'accuracy': self.best_val_acc,\n",
    "                'model_dict': self.model.state_dict(),\n",
    "            }, '{}/best-{}-params.pt'.format(self.args.results_dir, self.args.model))\n",
    "        self.logger.info('| Epoch {:3d} | train loss {:5.2f} | train acc {:5.2f} | val loss {:5.2f} | val acc {:5.2f} | time: {:5.2f}s |'\n",
    "                .format(epoch, train_loss, train_acc, val_loss, val_acc, took))\n",
    "\n",
    "    def execute(self):\n",
    "        print(\" [*] Training starts!\")\n",
    "        print('-' * 99)\n",
    "        pbar = tqdm(range(1, self.args.epochs+1))\n",
    "        for epoch in pbar:\n",
    "            start = time.time()\n",
    "\n",
    "            train_loss, train_acc = self.train(epoch)\n",
    "            val_loss, val_acc = self.validate(epoch)\n",
    "            # self.scheduler.step()\n",
    "\n",
    "            took = time.time()-start\n",
    "            self.result_checkpoint(epoch, train_loss, val_loss, train_acc, val_acc, took)\n",
    "\n",
    "            pbar.set_description('| Epoch {:3d} | train loss {:5.2f} | train acc {:5.2f} | val loss {:5.2f} | val acc {:5.2f} | time: {:5.2f}s |'.format(\n",
    "                epoch, train_loss, train_acc, val_loss, val_acc, took))\n",
    "        self.finish()\n",
    "\n",
    "    def finish(self):\n",
    "        self.logger.info(\"[*] Training finished!\\n\\n\")\n",
    "        print('-' * 99)\n",
    "        print(\" [*] Training finished!\")\n",
    "        print(\"best validation accuracy:\", self.best_val_acc)"
   ]
  },
  {
   "cell_type": "code",
   "execution_count": 7,
   "metadata": {
    "colab": {
     "base_uri": "https://localhost:8080/"
    },
    "id": "Lrl1BDMaTy5T",
    "outputId": "6011a234-b1a2-40b4-e3e5-26617e920619",
    "scrolled": false
   },
   "outputs": [
    {
     "name": "stdout",
     "output_type": "stream",
     "text": [
      "program execution start: 2021-10-23 03:02:41.674205\n",
      "TEXT Field saved in 2018EE10957_B_model\n",
      "resource preparation done: 2021-10-23 03:02:46.979472\n",
      " [*] Training starts!\n",
      "---------------------------------------------------------------------------------------------------\n"
     ]
    },
    {
     "name": "stderr",
     "output_type": "stream",
     "text": [
      "| Epoch  20 | train loss  0.01 | train acc 91.71 | val loss  0.02 | val acc 58.78 | time:  1.79s |: 100%|█| 20/20 "
     ]
    },
    {
     "name": "stdout",
     "output_type": "stream",
     "text": [
      "---------------------------------------------------------------------------------------------------\n",
      " [*] Training finished!\n",
      "best validation accuracy: 63.47962382445141\n"
     ]
    },
    {
     "name": "stderr",
     "output_type": "stream",
     "text": [
      "\n"
     ]
    }
   ],
   "source": [
    "## Start training\n",
    "task = Train()\n",
    "task.execute()"
   ]
  },
  {
   "cell_type": "markdown",
   "metadata": {},
   "source": [
    "## debugging"
   ]
  },
  {
   "cell_type": "code",
   "execution_count": 1,
   "metadata": {},
   "outputs": [],
   "source": [
    "from transformers import AutoTokenizer"
   ]
  },
  {
   "cell_type": "code",
   "execution_count": 64,
   "metadata": {},
   "outputs": [],
   "source": [
    "tokenizer = AutoTokenizer.from_pretrained('bert-base-uncased', do_lower_case=True)"
   ]
  },
  {
   "cell_type": "code",
   "execution_count": 67,
   "metadata": {},
   "outputs": [
    {
     "name": "stdout",
     "output_type": "stream",
     "text": [
      "101 102 0 103\n"
     ]
    }
   ],
   "source": [
    "# print(tokenizer.cls_token_id, tokenizer.sep_token_id, tokenizer.pad_token_id, tokenizer.mask_token_id)"
   ]
  },
  {
   "cell_type": "code",
   "execution_count": 13,
   "metadata": {},
   "outputs": [
    {
     "name": "stdout",
     "output_type": "stream",
     "text": [
      "[0, 102, 101, 103]\n",
      "['[PAD]', '[UNK]', '[CLS]', '[SEP]', '[MASK]', '[unused99]']\n"
     ]
    }
   ],
   "source": [
    "# tokenizer.encode([\"hey my name is shubham\", \"they 'll play this game very hastily\"], add_special_tokens=True)\n",
    "print(tokenizer.convert_tokens_to_ids([\"[PAD]\", \"[SEP]\", \"[CLS]\", \"[MASK]\"]))\n",
    "print(tokenizer.convert_ids_to_tokens([0,100,101, 102, 103, 104]))"
   ]
  },
  {
   "cell_type": "code",
   "execution_count": 3,
   "metadata": {},
   "outputs": [],
   "source": [
    "def process_data(path, train=True):\n",
    "    train = \"train\" if train else \"validation\"\n",
    "    x_train = pandas.read_csv(os.path.join(path, \"%s/%s.data.txt\"%(train, train)), delimiter='\\t', header=None, names=['word', 'POS', 'position', 'sen1', 'sen2'])\n",
    "    y_train = pandas.read_csv(os.path.join(path, \"%s/%s.gold.txt\"%(train, train)), header=None, names=['label'])\n",
    "    dataset = pandas.concat((x_train, y_train), axis=1)\n",
    "    word1 = dataset.loc[:,'position'].apply(lambda positions : positions.split(\"-\")[0])\n",
    "    word2 = dataset.loc[:,'position'].apply(lambda positions : positions.split(\"-\")[1])\n",
    "    dataset = dataset.drop(\"position\", axis=1)\n",
    "    dataset.loc[:, \"POS\"] = dataset.loc[:, \"POS\"].apply(lambda POS_TAG : 0 if POS_TAG==\"V\" else 1)\n",
    "    dataset.loc[:, \"label\"] = dataset.loc[:, \"label\"].apply(lambda lab : 0 if lab==\"F\" else 1)\n",
    "    dataset.insert(3, \"word1\", word1)\n",
    "    dataset.insert(5, \"word2\", word2)\n",
    "    # dataset.to_csv(os.path.join(path, \"%s/%s.csv\"%(train, train)), header=None, index=False\n",
    "    return dataset"
   ]
  },
  {
   "cell_type": "code",
   "execution_count": 17,
   "metadata": {},
   "outputs": [],
   "source": [
    "df = process_data(\"./data/\", train=False)"
   ]
  },
  {
   "cell_type": "code",
   "execution_count": 21,
   "metadata": {},
   "outputs": [
    {
     "data": {
      "text/plain": [
       "word                                     board\n",
       "POS                                          1\n",
       "sen1                          Room and board .\n",
       "word1                                        2\n",
       "sen2     He nailed boards across the windows .\n",
       "word2                                        2\n",
       "label                                        0\n",
       "Name: 0, dtype: object"
      ]
     },
     "execution_count": 21,
     "metadata": {},
     "output_type": "execute_result"
    }
   ],
   "source": [
    "df.iloc[0]"
   ]
  },
  {
   "cell_type": "code",
   "execution_count": 79,
   "metadata": {},
   "outputs": [
    {
     "data": {
      "text/plain": [
       "{'input_ids': tensor([[  101,  4931, 14844,  2026, 14844,   102,     0,     0,     0,     0],\n",
       "        [  101,  7632,   102,     0,     0,     0,     0,     0,     0,     0],\n",
       "        [  101,  7632, 15350,   102,     0,     0,     0,     0,     0,     0]]), 'token_type_ids': tensor([[0, 0, 0, 0, 0, 0, 0, 0, 0, 0],\n",
       "        [0, 0, 0, 0, 0, 0, 0, 0, 0, 0],\n",
       "        [0, 0, 0, 0, 0, 0, 0, 0, 0, 0]]), 'attention_mask': tensor([[1, 1, 1, 1, 1, 1, 0, 0, 0, 0],\n",
       "        [1, 1, 1, 0, 0, 0, 0, 0, 0, 0],\n",
       "        [1, 1, 1, 1, 0, 0, 0, 0, 0, 0]])}"
      ]
     },
     "execution_count": 79,
     "metadata": {},
     "output_type": "execute_result"
    }
   ],
   "source": [
    "out = tokenizer([\"heyhey myhey\",\"hi\",\"hiello\"], add_special_tokens=True, return_tensors='pt', padding='max_length', max_length=10) #, truncation=True)\n",
    "out"
   ]
  },
  {
   "cell_type": "code",
   "execution_count": 70,
   "metadata": {},
   "outputs": [],
   "source": [
    "# tokens = tokenizer.convert_ids_to_tokens(out['input_ids'][0])\n",
    "# print(tokens)\n",
    "# sen = tokenizer.convert_tokens_to_string(tokens)\n",
    "# print(sen)\n",
    "# print(\" \".join(tokens))"
   ]
  },
  {
   "cell_type": "code",
   "execution_count": 80,
   "metadata": {},
   "outputs": [],
   "source": [
    "from transformers import AutoModelForSequenceClassification"
   ]
  },
  {
   "cell_type": "code",
   "execution_count": 81,
   "metadata": {},
   "outputs": [
    {
     "data": {
      "application/vnd.jupyter.widget-view+json": {
       "model_id": "091b46d6816644adaf50f5d01fff3088",
       "version_major": 2,
       "version_minor": 0
      },
      "text/plain": [
       "Downloading:   0%|          | 0.00/420M [00:00<?, ?B/s]"
      ]
     },
     "metadata": {},
     "output_type": "display_data"
    },
    {
     "name": "stderr",
     "output_type": "stream",
     "text": [
      "Some weights of the model checkpoint at bert-base-uncased were not used when initializing BertForSequenceClassification: ['cls.seq_relationship.weight', 'cls.seq_relationship.bias', 'cls.predictions.transform.LayerNorm.bias', 'cls.predictions.transform.LayerNorm.weight', 'cls.predictions.transform.dense.weight', 'cls.predictions.transform.dense.bias', 'cls.predictions.bias', 'cls.predictions.decoder.weight']\n",
      "- This IS expected if you are initializing BertForSequenceClassification from the checkpoint of a model trained on another task or with another architecture (e.g. initializing a BertForSequenceClassification model from a BertForPreTraining model).\n",
      "- This IS NOT expected if you are initializing BertForSequenceClassification from the checkpoint of a model that you expect to be exactly identical (initializing a BertForSequenceClassification model from a BertForSequenceClassification model).\n",
      "Some weights of BertForSequenceClassification were not initialized from the model checkpoint at bert-base-uncased and are newly initialized: ['classifier.bias', 'classifier.weight']\n",
      "You should probably TRAIN this model on a down-stream task to be able to use it for predictions and inference.\n"
     ]
    }
   ],
   "source": [
    "bert = AutoModelForSequenceClassification.from_pretrained(\"bert-base-uncased\", num_labels=2)"
   ]
  },
  {
   "cell_type": "code",
   "execution_count": 83,
   "metadata": {},
   "outputs": [],
   "source": [
    "bert = bert.to('cuda')"
   ]
  },
  {
   "cell_type": "code",
   "execution_count": 92,
   "metadata": {},
   "outputs": [],
   "source": [
    "from torch.utils.data import Dataset, DataLoader\n",
    "class WiC_dataset(Dataset):\n",
    "    def __init__(self, data_dir, max_len=128, train=True, tokenizer='bert-base-uncased'):\n",
    "        self.data_dir = data_dir\n",
    "        self.max_len = max_len\n",
    "        self.train = train\n",
    "\n",
    "        # convert raw data into pandas data frame\n",
    "        self.dataset_df = process_data(data_dir, train=train)\n",
    "\n",
    "        # tokenizer\n",
    "        self.tokenizer = AutoTokenizer.from_pretrained(tokenizer, do_lower_case=True)\n",
    "\n",
    "    def __getitem__(self, index):\n",
    "        sample = self.dataset_df.iloc[index]\n",
    "\n",
    "        tokenized = self.tokenizer(sample['sen1'], sample['sen2'], return_tensors='pt', \\\n",
    "                                add_special_tokens=True, max_length=self.max_len, padding='max_length')\n",
    "        \n",
    "        x = tokenized['input_ids']\n",
    "        y = torch.tensor(sample['label'])\n",
    "        return x,y\n",
    "    \n",
    "    def __len__(self):\n",
    "        return len(self.dataset_df)"
   ]
  },
  {
   "cell_type": "code",
   "execution_count": 93,
   "metadata": {},
   "outputs": [],
   "source": [
    "trainset = WiC_dataset(\"data\", max_len=128, train=True, tokenizer='bert-base-uncased')\n",
    "trainloader = DataLoader(trainset, batch_size = 32, shuffle = True)"
   ]
  },
  {
   "cell_type": "code",
   "execution_count": 94,
   "metadata": {},
   "outputs": [
    {
     "name": "stdout",
     "output_type": "stream",
     "text": [
      "torch.Size([32, 1, 128]) torch.Size([32])\n"
     ]
    }
   ],
   "source": [
    "for x,y in trainloader:\n",
    "    print(x.shape, y.shape)\n",
    "    break"
   ]
  },
  {
   "cell_type": "code",
   "execution_count": null,
   "metadata": {},
   "outputs": [],
   "source": []
  },
  {
   "cell_type": "code",
   "execution_count": null,
   "metadata": {},
   "outputs": [],
   "source": []
  },
  {
   "cell_type": "code",
   "execution_count": null,
   "metadata": {},
   "outputs": [],
   "source": []
  },
  {
   "cell_type": "code",
   "execution_count": null,
   "metadata": {},
   "outputs": [],
   "source": []
  },
  {
   "cell_type": "code",
   "execution_count": null,
   "metadata": {},
   "outputs": [],
   "source": []
  },
  {
   "cell_type": "code",
   "execution_count": null,
   "metadata": {},
   "outputs": [],
   "source": []
  },
  {
   "cell_type": "code",
   "execution_count": null,
   "metadata": {
    "colab": {
     "base_uri": "https://localhost:8080/"
    },
    "id": "XxKdCr2jUCwP",
    "outputId": "f85c0782-8f46-4923-f109-87582436100b"
   },
   "outputs": [
    {
     "name": "stdout",
     "output_type": "stream",
     "text": [
      "  adding: 2018EE10957_A_model/ (stored 0%)\n",
      "  adding: 2018EE10957_A_model/best-biLSTM-params.pt (deflated 9%)\n",
      "  adding: 2018EE10957_A_model/Field_TEXT (deflated 11%)\n"
     ]
    }
   ],
   "source": [
    "## Zip the final model and all the required files, such as vocabulary\n",
    "# Replace USERID with your own, such as 2017CSZ8058\n",
    "!zip -r 2018EE10957_A_model.zip 2018EE10957_A_model\n",
    "\n",
    "## Upload it to Google drive and ensure that the testing notebook uses the correct link"
   ]
  },
  {
   "cell_type": "markdown",
   "metadata": {
    "id": "4mn6wE-LU_Bc"
   },
   "source": [
    "## testing"
   ]
  },
  {
   "cell_type": "code",
   "execution_count": null,
   "metadata": {
    "id": "SJjx9_YFhRzA"
   },
   "outputs": [],
   "source": [
    "def main():\n",
    "    hidden_dim=64\n",
    "    device = get_device(0)\n",
    "\n",
    "    x_test = pandas.read_csv(\"test.data.txt\", delimiter='\\t', header=None, names=['word', 'POS', 'position', 'sen1', 'sen2'])\n",
    "    word1 = x_test.loc[:,'position'].apply(lambda positions : positions.split(\"-\")[0])\n",
    "    word2 = x_test.loc[:,'position'].apply(lambda positions : positions.split(\"-\")[1])\n",
    "    x_test = x_test.drop(\"position\", axis=1)\n",
    "    x_test.loc[:, \"POS\"] = x_test.loc[:, \"POS\"].apply(lambda POS_TAG : 0 if POS_TAG==\"V\" else 1)\n",
    "    x_test.insert(3, \"word1\", word1)\n",
    "    x_test.insert(5, \"word2\", word2)\n",
    "    x_test.to_csv(\"./test.csv\", header=None, index=False)\n",
    "\n",
    "    with open(os.path.join(\"2018EE10957_A_model\", \"Field_TEXT\"), 'rb') as f:\n",
    "        TEXT = dill.load(f)\n",
    "\n",
    "    fields = [\n",
    "        ('word', TEXT),\n",
    "        ('POS', data.Field(use_vocab=False, sequential=False)), \n",
    "        ('sen1', TEXT),\n",
    "        ('word1', data.Field(use_vocab=False, sequential=False)),\n",
    "        ('sen2', TEXT),\n",
    "        ('word2', data.Field(use_vocab=False, sequential=False)),\n",
    "    ]\n",
    "\n",
    "    test_set = data.TabularDataset(\n",
    "        path = \"./test.csv\",\n",
    "        format = 'csv',\n",
    "        fields = fields,\n",
    "        skip_header = False\n",
    "    )\n",
    "\n",
    "    test_itr = data.BucketIterator(\n",
    "        test_set,\n",
    "        #sort_key = lambda sample : len(sample.sen1),\n",
    "        sort = False,\n",
    "        batch_size = 32,\n",
    "        repeat = False,\n",
    "        shuffle = False,\n",
    "    )\n",
    "\n",
    "    model = myModel(pretrained_embeddings=TEXT.vocab.vectors, embed_dim=TEXT.vocab.vectors.shape[1], hidden_dim=hidden_dim, device=device)\n",
    "    saved_model = torch.load(\"2018EE10957_A_model/best-biLSTM-params.pt\", map_location=device)\n",
    "    print(saved_model[\"accuracy\"])\n",
    "    model.load_state_dict(saved_model['model_dict'])\n",
    "    model = model.to(device)\n",
    "\n",
    "    model.eval()\n",
    "    test_itr.init_epoch()\n",
    "    predictions = []\n",
    "    with torch.no_grad():\n",
    "        for batch_idx, batch in enumerate(test_itr):\n",
    "            answer = model(batch)\n",
    "            answer = list(np.array((answer>=0.5).long().cpu()))\n",
    "            predictions += answer\n",
    "\n",
    "    predictions = pandas.DataFrame(predictions)[0].apply(lambda label : \"T\" if label == 1 else \"F\")\n",
    "    predictions.to_csv(\"output.txt\", header=None, index=None)\n",
    "    print(\"predictions written in output.txt\")"
   ]
  },
  {
   "cell_type": "code",
   "execution_count": null,
   "metadata": {
    "colab": {
     "base_uri": "https://localhost:8080/"
    },
    "id": "aAf77kcrhS_1",
    "outputId": "3801bc2e-18ef-4050-d6b7-fb94cadaf78c"
   },
   "outputs": [
    {
     "name": "stdout",
     "output_type": "stream",
     "text": [
      "60.18808777429467\n",
      "predictions written in output.txt\n"
     ]
    }
   ],
   "source": [
    "main()"
   ]
  },
  {
   "cell_type": "code",
   "execution_count": null,
   "metadata": {
    "id": "Y3ccWcHDhXfV"
   },
   "outputs": [],
   "source": []
  }
 ],
 "metadata": {
  "colab": {
   "collapsed_sections": [],
   "name": "2018EE10957_A3_B_train.ipynb",
   "provenance": []
  },
  "kernelspec": {
   "display_name": "Python 3 (ipykernel)",
   "language": "python",
   "name": "python3"
  },
  "language_info": {
   "codemirror_mode": {
    "name": "ipython",
    "version": 3
   },
   "file_extension": ".py",
   "mimetype": "text/x-python",
   "name": "python",
   "nbconvert_exporter": "python",
   "pygments_lexer": "ipython3",
   "version": "3.8.11"
  }
 },
 "nbformat": 4,
 "nbformat_minor": 1
}
