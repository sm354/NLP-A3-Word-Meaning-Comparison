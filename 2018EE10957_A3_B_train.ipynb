{
  "nbformat": 4,
  "nbformat_minor": 0,
  "metadata": {
    "colab": {
      "name": "2018EE10957_A3_B_train.ipynb",
      "provenance": [],
      "collapsed_sections": []
    },
    "kernelspec": {
      "display_name": "Python 3",
      "name": "python3"
    },
    "language_info": {
      "name": "python"
    }
  },
  "cells": [
    {
      "cell_type": "markdown",
      "metadata": {
        "id": "FWjwfx8T5OAJ"
      },
      "source": [
        "Make a copy of this notebook and rename using your USERID in the following format, 2017CSZ8058\n",
        "\n",
        "Give editor access to keshavkolluru@gmail.com, vishalsaley114@gmail.com and kartikeya.badola@gmail.com\n"
      ]
    },
    {
      "cell_type": "code",
      "metadata": {
        "colab": {
          "base_uri": "https://localhost:8080/"
        },
        "id": "spAvH1fF0Rhg",
        "outputId": "03fd1ef6-84df-4609-ea4e-64022145e89f"
      },
      "source": [
        "## DONT CHANGE THIS CELL\n",
        "!wget http://www.cse.iitd.ac.in/~mausam/courses/col772/autumn2021/A3/data.zip"
      ],
      "execution_count": null,
      "outputs": [
        {
          "output_type": "stream",
          "name": "stdout",
          "text": [
            "--2021-10-21 20:16:08--  http://www.cse.iitd.ac.in/~mausam/courses/col772/autumn2021/A3/data.zip\n",
            "Resolving www.cse.iitd.ac.in (www.cse.iitd.ac.in)... 103.27.9.152\n",
            "Connecting to www.cse.iitd.ac.in (www.cse.iitd.ac.in)|103.27.9.152|:80... connected.\n",
            "HTTP request sent, awaiting response... 301 Moved Permanently\n",
            "Location: https://www.cse.iitd.ac.in/~mausam/courses/col772/autumn2021/A3/data.zip [following]\n",
            "--2021-10-21 20:16:09--  https://www.cse.iitd.ac.in/~mausam/courses/col772/autumn2021/A3/data.zip\n",
            "Connecting to www.cse.iitd.ac.in (www.cse.iitd.ac.in)|103.27.9.152|:443... connected.\n",
            "HTTP request sent, awaiting response... 200 OK\n",
            "Length: 217313 (212K) [application/zip]\n",
            "Saving to: ‘data.zip’\n",
            "\n",
            "data.zip            100%[===================>] 212.22K   115KB/s    in 1.8s    \n",
            "\n",
            "2021-10-21 20:16:12 (115 KB/s) - ‘data.zip’ saved [217313/217313]\n",
            "\n"
          ]
        }
      ]
    },
    {
      "cell_type": "code",
      "metadata": {
        "colab": {
          "base_uri": "https://localhost:8080/"
        },
        "id": "yARdz5vOTSgW",
        "outputId": "9c0f9a8d-50b4-47cc-908d-6de336462535"
      },
      "source": [
        "!unzip data.zip"
      ],
      "execution_count": null,
      "outputs": [
        {
          "output_type": "stream",
          "name": "stdout",
          "text": [
            "Archive:  data.zip\n",
            "   creating: data/\n",
            "   creating: data/train/\n",
            "  inflating: data/train/train.gold.txt  \n",
            "  inflating: data/train/train.data.txt  \n",
            "   creating: data/validation/\n",
            "  inflating: data/validation/validation.data.txt  \n",
            "  inflating: data/validation/validation.gold.txt  \n"
          ]
        }
      ]
    },
    {
      "cell_type": "code",
      "metadata": {
        "id": "LrnkLN2LzlDB"
      },
      "source": [
        "import os\n",
        "import time\n",
        "import random\n",
        "import spacy\n",
        "import dill\n",
        "from tqdm import tqdm\n",
        "import datetime\n",
        "import numpy as np\n",
        "import pandas\n",
        "import logging\n",
        "from argparse import ArgumentParser\n",
        "from pdb import set_trace\n",
        "import torch\n",
        "import torch.optim as O\n",
        "import torch.nn as nn\n",
        "import torch.nn.functional as F\n",
        "from torch.optim.lr_scheduler import StepLR\n",
        "from torchtext.legacy import data\n",
        "from torchtext.data.utils import get_tokenizer"
      ],
      "execution_count": null,
      "outputs": []
    },
    {
      "cell_type": "code",
      "metadata": {
        "id": "jyW7u0t4TVxj"
      },
      "source": [
        "## Various utility functions\n",
        "class args_class:\n",
        "    dataset = \"data/\"\n",
        "    model = \"biLSTM\"\n",
        "    gpu = 0\n",
        "    batch_size = 32\n",
        "    epochs = 20\n",
        "    hidden_dim = 64\n",
        "    lr = 0.001\n",
        "    results_dir = \"2018EE10957_A_model\""
      ],
      "execution_count": null,
      "outputs": []
    },
    {
      "cell_type": "code",
      "metadata": {
        "id": "sr3ok6g51O_d"
      },
      "source": [
        "def parse_args():\n",
        "\t# parser = ArgumentParser(description='NLI Baseline')\n",
        "\t# parser.add_argument('--dataset', '-d', type=str, default='mnli')\n",
        "\t# parser.add_argument('--model', '-m', type=str, default='bilstm')\n",
        "\t# parser.add_argument('--gpu', type=int, default=0)\n",
        "\t# parser.add_argument('--batch_size', type=int, default=128)\n",
        "\t# parser.add_argument('--embed_dim', type=int, default=300)\n",
        "\t# parser.add_argument('--d_hidden', type=int, default=200)\n",
        "\t# parser.add_argument('--dp_ratio', type=int, default=0.2)\n",
        "\t# parser.add_argument('--epochs', type=int, default=20)\n",
        "\t# parser.add_argument('--lr', type=float, default=0.001)\n",
        "\t# parser.add_argument('--combine', type=str, default='cat')\n",
        "\t# parser.add_argument('--results_dir', type=str, default='results')\n",
        "\targs = args_class()\n",
        "\treturn check_args(args)\n",
        "\n",
        "\"\"\"checking arguments\"\"\"\n",
        "def check_args(args):\n",
        "\t# --result_dir\n",
        "\tcheck_folder(os.path.join(args.dataset))\n",
        "\tcheck_folder(os.path.join(args.results_dir))\n",
        "\n",
        "\t# --epoch\n",
        "\ttry:\n",
        "\t\t\tassert args.epochs >= 1\n",
        "\texcept:\n",
        "\t\t\tprint('number of epochs must be larger than or equal to one')\n",
        "\n",
        "\t# --batch_size\n",
        "\ttry:\n",
        "\t\t\tassert args.batch_size >= 1\n",
        "\texcept:\n",
        "\t\t\tprint('batch size must be larger than or equal to one')\n",
        "\treturn args\n",
        "\n",
        "def get_device(gpu_no):\n",
        "\tif torch.cuda.is_available():\n",
        "\t\ttorch.cuda.set_device(gpu_no)\n",
        "\t\treturn torch.device('cuda:{}'.format(gpu_no))\n",
        "\telse:\n",
        "\t\treturn torch.device('cpu')\n",
        "\n",
        "def makedirs(name):\n",
        "\t\"\"\"helper function for python 2 and 3 to call os.makedirs()\n",
        "\t\tavoiding an error if the directory to be created already exists\"\"\"\n",
        "\n",
        "\timport os, errno\n",
        "\n",
        "\ttry:\n",
        "\t\tos.makedirs(name)\n",
        "\texcept OSError as ex:\n",
        "\t\tif ex.errno == errno.EEXIST and os.path.isdir(name):\n",
        "\t\t\t# ignore existing directory\n",
        "\t\t\tpass\n",
        "\t\telse:\n",
        "\t\t\t# a different error happened\n",
        "\t\t\traise\n",
        "\n",
        "def check_folder(log_dir):\n",
        "\tif not os.path.exists(log_dir):\n",
        "\t\tos.makedirs(log_dir)\n",
        "\treturn log_dir\n",
        "\n",
        "def get_logger(args, phase):\n",
        "\tlogging.basicConfig(level=logging.INFO, \n",
        "\t\t\t\t\t\t\t\t\t\t\t\tfilename = \"{}_{}.log\".format(args.model, phase),\n",
        "\t\t\t\t\t\t\t\t\t\t\t\tformat = '%(asctime)s - %(message)s', \n",
        "\t\t\t\t\t\t\t\t\t\t\t\tdatefmt='%d-%b-%y %H:%M:%S')\n",
        "\treturn logging.getLogger(phase)"
      ],
      "execution_count": null,
      "outputs": []
    },
    {
      "cell_type": "code",
      "metadata": {
        "id": "14EjR4tmz2x5"
      },
      "source": [
        "def process_data(path, train=True):\n",
        "    train = \"train\" if train else \"validation\"\n",
        "    x_train = pandas.read_csv(os.path.join(path, \"%s/%s.data.txt\"%(train, train)), delimiter='\\t', header=None, names=['word', 'POS', 'position', 'sen1', 'sen2'])\n",
        "    y_train = pandas.read_csv(os.path.join(path, \"%s/%s.gold.txt\"%(train, train)), header=None, names=['label'])\n",
        "    dataset = pandas.concat((x_train, y_train), axis=1)\n",
        "    word1 = dataset.loc[:,'position'].apply(lambda positions : positions.split(\"-\")[0])\n",
        "    word2 = dataset.loc[:,'position'].apply(lambda positions : positions.split(\"-\")[1])\n",
        "    dataset = dataset.drop(\"position\", axis=1)\n",
        "    dataset.loc[:, \"POS\"] = dataset.loc[:, \"POS\"].apply(lambda POS_TAG : 0 if POS_TAG==\"V\" else 1)\n",
        "    dataset.loc[:, \"label\"] = dataset.loc[:, \"label\"].apply(lambda lab : 0 if lab==\"F\" else 1)\n",
        "    dataset.insert(3, \"word1\", word1)\n",
        "    dataset.insert(5, \"word2\", word2)\n",
        "    dataset.to_csv(os.path.join(path, \"%s/%s.csv\"%(train, train)), header=None, index=False)\n",
        "\n",
        "en = spacy.load('en_core_web_sm')\n",
        "def tokeni(sen):\n",
        "    t = en.tokenizer(sen)\n",
        "    return [word.text for word in t]\n",
        "\n",
        "class myDataset:\n",
        "    def __init__(self, args):\n",
        "        self.args = args\n",
        "        \n",
        "        process_data(args.dataset, train=True)\n",
        "        process_data(args.dataset, train=False)\n",
        "\n",
        "        TEXT = data.Field(\n",
        "            sequential=True,\n",
        "            lower=True,\n",
        "            tokenize=tokeni, \n",
        "        )\n",
        "        # get_tokenizer(\"basic_english\"),\n",
        "        fields = [\n",
        "            ('word', TEXT),\n",
        "            ('POS', data.Field(use_vocab=False, sequential=False)), \n",
        "            ('sen1', TEXT),\n",
        "            ('word1', data.Field(use_vocab=False, sequential=False)),\n",
        "            ('sen2', TEXT),\n",
        "            ('word2', data.Field(use_vocab=False, sequential=False)),\n",
        "            ('label', data.Field(use_vocab=False, sequential=False)),\n",
        "        ]\n",
        "\n",
        "        train_set, val_set = data.TabularDataset.splits(\n",
        "            path = args.dataset,\n",
        "            train = 'train/train.csv',\n",
        "            validation = 'validation/validation.csv',\n",
        "            format = 'csv',\n",
        "            fields = fields,\n",
        "            skip_header = False,\n",
        "        )\n",
        "\n",
        "        TEXT.build_vocab(train_set, vectors='glove.6B.300d')\n",
        "\n",
        "        train_itr, val_itr = data.BucketIterator.splits(\n",
        "            (train_set, val_set),\n",
        "            #sort_key = lambda sample : len(sample.sen1),\n",
        "            sort = False,\n",
        "            batch_size = args.batch_size,\n",
        "        )\n",
        "\n",
        "        # my = TEXT.vocab.vectors\n",
        "        # zero = torch.zeros(300)\n",
        "        # zero_embs = ((my==zero).sum(axis=1) == 300)\n",
        "        # zero_embs[0:2] = torch.tensor([False, False])\n",
        "        # # zero_embs.sum()\n",
        "        # TEXT.vocab.vectors[zero_embs] = torch.rand(zero_embs.sum(),300)\n",
        "        # zero_embs = ((TEXT.vocab.vectors==zero).sum(axis=1) == 300)\n",
        "        # # zero_embs[0:2] = torch.tensor([False, False])\n",
        "        # print(\"zero embeddings in TEXT.vocab.vectors\", zero_embs.sum())\n",
        "\n",
        "        with open(os.path.join(self.args.results_dir, \"Field_TEXT\"), 'wb') as f:\n",
        "            dill.dump(TEXT, f)\n",
        "        print(\"TEXT Field saved in %s\"%self.args.results_dir)\n",
        "        \n",
        "        self.vocab = TEXT.vocab\n",
        "        self.train_iter = train_itr\n",
        "        self.dev_iter = val_itr\n",
        "        self.TEXT = TEXT\n",
        "        self.train_set = train_set\n",
        "        self.val_set = val_set"
      ],
      "execution_count": null,
      "outputs": []
    },
    {
      "cell_type": "code",
      "metadata": {
        "id": "q383CZB3TzI4"
      },
      "source": [
        "class myModel(nn.Module):\n",
        "    def __init__(self, pretrained_embeddings, embed_dim=100, hidden_dim=100, device=torch.device('cpu')):\n",
        "        super(myModel, self).__init__()\n",
        "        self.embed_dim = embed_dim\n",
        "        self.hidden_dim = hidden_dim\n",
        "        self.device = device\n",
        "        \n",
        "        self.embedding = nn.Embedding.from_pretrained(pretrained_embeddings, freeze=True)\n",
        "        # self.dropout = nn.Dropout(p = 0.5)\n",
        "        self.bilstm = nn.LSTM(embed_dim, hidden_dim, bidirectional=False, batch_first=True, num_layers=2)\n",
        "        # self.fc = nn.Linear(hidden_dim, 2)\n",
        "        # self.attn = nn.MultiheadAttention(embed_dim=300, num_heads=4, batch_first=True) #self.hidden_dim\n",
        "        self.similarity = nn.CosineSimilarity(dim=1)\n",
        "        self.sigmoid = nn.Sigmoid()\n",
        "\n",
        "    def forward(self, input):\n",
        "        '''\n",
        "            [torchtext.legacy.data.batch.Batch of size 32]\n",
        "                [.word]:[torch.LongTensor of size 1x32]\n",
        "                [.POS]:[torch.LongTensor of size 32]\n",
        "                [.sen1]:[torch.LongTensor of size 17x32]\n",
        "                [.word1]:[torch.LongTensor of size 32]\n",
        "                [.sen2]:[torch.LongTensor of size 26x32]\n",
        "                [.word2]:[torch.LongTensor of size 32]\n",
        "                [.label]:[torch.LongTensor of size 32]\n",
        "        '''\n",
        "        input1 = input.sen1.permute(1,0).to(self.device)\n",
        "        input2 = input.sen2.permute(1,0).to(self.device)\n",
        "\n",
        "        # embed the tokens (indices in the vocab) \n",
        "        # out1 = self.dropout(self.embedding(input1))\n",
        "        # out2 = self.dropout(self.embedding(input2))\n",
        "        out1 = self.embedding(input1)\n",
        "        out2 = self.embedding(input2)\n",
        "        \n",
        "        out1, (_, _) = self.bilstm(out1)\n",
        "        out2, (_, _) = self.bilstm(out2)\n",
        "        \n",
        "        # mask1 = (input1 == 1)\n",
        "        # mask2 = (input2 == 1)\n",
        "\n",
        "        # attention box\n",
        "        # (out1, _) = self.attn(out1, out1, out1, key_padding_mask=mask1)\n",
        "        # (out2, _) = self.attn(out2, out2, out2, key_padding_mask=mask2)\n",
        "        \n",
        "        # word of interest\n",
        "        woi1_idx = torch.repeat_interleave(torch.unsqueeze(torch.unsqueeze(input.word1, 1), 2), self.hidden_dim, dim=2).to(self.device)\n",
        "        woi2_idx = torch.repeat_interleave(torch.unsqueeze(torch.unsqueeze(input.word2, 1), 2), self.hidden_dim, dim=2).to(self.device)\n",
        "        \n",
        "        # gather the word of interest for each sentence in the batch\n",
        "        out1 = torch.gather(input=out1, dim=1, index=woi1_idx).squeeze()\n",
        "        out2 = torch.gather(input=out2, dim=1, index=woi2_idx).squeeze()\n",
        "        \n",
        "        # linear layer\n",
        "        #out1 = self.fc(out1)\n",
        "        #out2 = self.fc(out2)\n",
        "        \n",
        "        # compute scores of similarity\n",
        "        out = self.similarity(out1, out2)\n",
        "        out = self.sigmoid(out)\n",
        "        # try:\n",
        "        #     assert out.shape[0] == self.bs\n",
        "        # except:\n",
        "        #     print(\"AssertionError\", out.shape[0], self.bs) # all samples are touched in a epoch\n",
        "\n",
        "        return out"
      ],
      "execution_count": null,
      "outputs": []
    },
    {
      "cell_type": "code",
      "metadata": {
        "id": "Rl5jiYUuTzBg"
      },
      "source": [
        "# fixing seeds to reproduce results (exact!)\n",
        "torch.manual_seed(0)\n",
        "random.seed(0)\n",
        "np.random.seed(0)\n",
        "\n",
        "class Train():\n",
        "    def __init__(self):\n",
        "        print(\"program execution start: {}\".format(datetime.datetime.now()))\n",
        "        self.args = parse_args()\n",
        "        self.device = get_device(self.args.gpu)\n",
        "        self.logger = get_logger(self.args, \"train\")\n",
        "        self.logger.info(\"Arguments: {}\".format(self.args))\n",
        "\n",
        "        dataset_options = {\n",
        "            'batch_size': self.args.batch_size, \n",
        "            'device': self.device\n",
        "            }\n",
        "\n",
        "        self.dataset = myDataset(self.args)\n",
        "        self.vocab = self.dataset.vocab\n",
        "        self.embed_dim = self.vocab.vectors.shape[1]\n",
        "\n",
        "        self.model = myModel(self.vocab.vectors, self.embed_dim, self.args.hidden_dim, self.device)\n",
        "\n",
        "        self.model = self.model.to(self.device)\n",
        "        self.criterion = nn.BCELoss()\n",
        "        self.opt = O.Adam(self.model.parameters(), lr = self.args.lr) #, weight_decay=0.005)\n",
        "        self.best_val_acc = None\n",
        "        # self.scheduler = StepLR(self.opt, step_size=5, gamma=0.5)\n",
        "\n",
        "        print(\"resource preparation done: {}\".format(datetime.datetime.now()))\n",
        "\n",
        "    def train(self,epoch):\n",
        "        self.model.train() #; self.dataset.train_iter.init_epoch()\n",
        "        n_correct, n_total, n_loss = 0, 0, 0\n",
        "        for batch_idx, batch in enumerate(self.dataset.train_iter):\n",
        "            # if batch.batch_size != self.args.batch_size:\n",
        "            #     print(batch.batch_size)\n",
        "            self.opt.zero_grad()\n",
        "            batch.label = batch.label.to(self.device)\n",
        "            answer = self.model(batch)\n",
        "            loss = self.criterion(answer, batch.label.float())\n",
        "            answer = (answer>=0.5).long()\n",
        "\n",
        "            n_correct += (answer == batch.label).sum().item()\n",
        "            n_total += batch.batch_size\n",
        "            n_loss += loss.item()\n",
        "\n",
        "            loss.backward()\n",
        "            # nn.utils.clip_grad_norm_(self.model.parameters(), 1, error_if_nonfinite=True)\n",
        "            self.opt.step()\n",
        "        # if epoch == 20:\n",
        "            # set_trace()\n",
        "        train_loss = n_loss/n_total\n",
        "        train_acc = 100. * n_correct/n_total\n",
        "        return train_loss, train_acc\n",
        "\n",
        "    def validate(self,epoch):\n",
        "        self.model.eval() #; self.dataset.dev_iter.init_epoch()\n",
        "        n_correct, n_total, n_loss = 0, 0, 0\n",
        "        with torch.no_grad():\n",
        "            for batch_idx, batch in enumerate(self.dataset.dev_iter):\n",
        "                batch.label = batch.label.to(self.device)\n",
        "                answer = self.model(batch)\n",
        "                loss = self.criterion(answer, batch.label.float())\n",
        "                answer = (answer>=0.5).long()\n",
        "\n",
        "                n_correct += (answer == batch.label).sum().item()\n",
        "                n_total += batch.batch_size\n",
        "                n_loss += loss.item()\n",
        "\n",
        "            val_loss = n_loss/n_total\n",
        "            val_acc = 100. * n_correct/n_total\n",
        "            return val_loss, val_acc\n",
        "\n",
        "    def result_checkpoint(self, epoch, train_loss, val_loss, train_acc, val_acc, took):\n",
        "        if self.best_val_acc is None or val_acc > self.best_val_acc:\n",
        "            self.best_val_acc = val_acc\n",
        "            torch.save({\n",
        "                'accuracy': self.best_val_acc,\n",
        "                'model_dict': self.model.state_dict(),\n",
        "            }, '{}/best-{}-params.pt'.format(self.args.results_dir, self.args.model))\n",
        "        self.logger.info('| Epoch {:3d} | train loss {:5.2f} | train acc {:5.2f} | val loss {:5.2f} | val acc {:5.2f} | time: {:5.2f}s |'\n",
        "                .format(epoch, train_loss, train_acc, val_loss, val_acc, took))\n",
        "\n",
        "    def execute(self):\n",
        "        print(\" [*] Training starts!\")\n",
        "        print('-' * 99)\n",
        "        pbar = tqdm(range(1, self.args.epochs+1))\n",
        "        for epoch in pbar:\n",
        "            start = time.time()\n",
        "\n",
        "            train_loss, train_acc = self.train(epoch)\n",
        "            val_loss, val_acc = self.validate(epoch)\n",
        "            # self.scheduler.step()\n",
        "\n",
        "            took = time.time()-start\n",
        "            self.result_checkpoint(epoch, train_loss, val_loss, train_acc, val_acc, took)\n",
        "\n",
        "            pbar.set_description('| Epoch {:3d} | train loss {:5.2f} | train acc {:5.2f} | val loss {:5.2f} | val acc {:5.2f} | time: {:5.2f}s |'.format(\n",
        "                epoch, train_loss, train_acc, val_loss, val_acc, took))\n",
        "        self.finish()\n",
        "\n",
        "    def finish(self):\n",
        "        self.logger.info(\"[*] Training finished!\\n\\n\")\n",
        "        print('-' * 99)\n",
        "        print(\" [*] Training finished!\")\n",
        "        print(\"best validation accuracy:\", self.best_val_acc)"
      ],
      "execution_count": null,
      "outputs": []
    },
    {
      "cell_type": "code",
      "metadata": {
        "colab": {
          "base_uri": "https://localhost:8080/"
        },
        "id": "Lrl1BDMaTy5T",
        "outputId": "6011a234-b1a2-40b4-e3e5-26617e920619"
      },
      "source": [
        "## Start training\n",
        "task = Train()\n",
        "task.execute()"
      ],
      "execution_count": null,
      "outputs": [
        {
          "output_type": "stream",
          "name": "stdout",
          "text": [
            "program execution start: 2021-10-21 20:16:47.090433\n"
          ]
        },
        {
          "output_type": "stream",
          "name": "stderr",
          "text": [
            ".vector_cache/glove.6B.zip: 862MB [03:14, 4.44MB/s]                           \n",
            "100%|█████████▉| 399999/400000 [00:50<00:00, 7917.10it/s]\n"
          ]
        },
        {
          "output_type": "stream",
          "name": "stdout",
          "text": [
            "TEXT Field saved in 2018EE10957_A_model\n",
            "resource preparation done: 2021-10-21 20:21:39.016644\n",
            " [*] Training starts!\n",
            "---------------------------------------------------------------------------------------------------\n"
          ]
        },
        {
          "output_type": "stream",
          "name": "stderr",
          "text": [
            "| Epoch  20 | train loss  0.01 | train acc 92.32 | val loss  0.02 | val acc 55.49 | time:  2.00s |: 100%|██████████| 20/20 [00:41<00:00,  2.06s/it]"
          ]
        },
        {
          "output_type": "stream",
          "name": "stdout",
          "text": [
            "---------------------------------------------------------------------------------------------------\n",
            " [*] Training finished!\n",
            "best validation accuracy: 60.18808777429467\n"
          ]
        },
        {
          "output_type": "stream",
          "name": "stderr",
          "text": [
            "\n"
          ]
        }
      ]
    },
    {
      "cell_type": "code",
      "metadata": {
        "colab": {
          "base_uri": "https://localhost:8080/"
        },
        "id": "XxKdCr2jUCwP",
        "outputId": "f85c0782-8f46-4923-f109-87582436100b"
      },
      "source": [
        "## Zip the final model and all the required files, such as vocabulary\n",
        "# Replace USERID with your own, such as 2017CSZ8058\n",
        "!zip -r 2018EE10957_A_model.zip 2018EE10957_A_model\n",
        "\n",
        "## Upload it to Google drive and ensure that the testing notebook uses the correct link"
      ],
      "execution_count": null,
      "outputs": [
        {
          "output_type": "stream",
          "name": "stdout",
          "text": [
            "  adding: 2018EE10957_A_model/ (stored 0%)\n",
            "  adding: 2018EE10957_A_model/best-biLSTM-params.pt (deflated 9%)\n",
            "  adding: 2018EE10957_A_model/Field_TEXT (deflated 11%)\n"
          ]
        }
      ]
    },
    {
      "cell_type": "code",
      "metadata": {
        "id": "4mn6wE-LU_Bc"
      },
      "source": [
        ""
      ],
      "execution_count": null,
      "outputs": []
    },
    {
      "cell_type": "code",
      "metadata": {
        "id": "SJjx9_YFhRzA"
      },
      "source": [
        "def main():\n",
        "    hidden_dim=64\n",
        "    device = get_device(0)\n",
        "\n",
        "    x_test = pandas.read_csv(\"test.data.txt\", delimiter='\\t', header=None, names=['word', 'POS', 'position', 'sen1', 'sen2'])\n",
        "    word1 = x_test.loc[:,'position'].apply(lambda positions : positions.split(\"-\")[0])\n",
        "    word2 = x_test.loc[:,'position'].apply(lambda positions : positions.split(\"-\")[1])\n",
        "    x_test = x_test.drop(\"position\", axis=1)\n",
        "    x_test.loc[:, \"POS\"] = x_test.loc[:, \"POS\"].apply(lambda POS_TAG : 0 if POS_TAG==\"V\" else 1)\n",
        "    x_test.insert(3, \"word1\", word1)\n",
        "    x_test.insert(5, \"word2\", word2)\n",
        "    x_test.to_csv(\"./test.csv\", header=None, index=False)\n",
        "\n",
        "    with open(os.path.join(\"2018EE10957_A_model\", \"Field_TEXT\"), 'rb') as f:\n",
        "        TEXT = dill.load(f)\n",
        "\n",
        "    fields = [\n",
        "        ('word', TEXT),\n",
        "        ('POS', data.Field(use_vocab=False, sequential=False)), \n",
        "        ('sen1', TEXT),\n",
        "        ('word1', data.Field(use_vocab=False, sequential=False)),\n",
        "        ('sen2', TEXT),\n",
        "        ('word2', data.Field(use_vocab=False, sequential=False)),\n",
        "    ]\n",
        "\n",
        "    test_set = data.TabularDataset(\n",
        "        path = \"./test.csv\",\n",
        "        format = 'csv',\n",
        "        fields = fields,\n",
        "        skip_header = False\n",
        "    )\n",
        "\n",
        "    test_itr = data.BucketIterator(\n",
        "        test_set,\n",
        "        #sort_key = lambda sample : len(sample.sen1),\n",
        "        sort = False,\n",
        "        batch_size = 32,\n",
        "        repeat = False,\n",
        "        shuffle = False,\n",
        "    )\n",
        "\n",
        "    model = myModel(pretrained_embeddings=TEXT.vocab.vectors, embed_dim=TEXT.vocab.vectors.shape[1], hidden_dim=hidden_dim, device=device)\n",
        "    saved_model = torch.load(\"2018EE10957_A_model/best-biLSTM-params.pt\", map_location=device)\n",
        "    print(saved_model[\"accuracy\"])\n",
        "    model.load_state_dict(saved_model['model_dict'])\n",
        "    model = model.to(device)\n",
        "\n",
        "    model.eval()\n",
        "    test_itr.init_epoch()\n",
        "    predictions = []\n",
        "    with torch.no_grad():\n",
        "        for batch_idx, batch in enumerate(test_itr):\n",
        "            answer = model(batch)\n",
        "            answer = list(np.array((answer>=0.5).long().cpu()))\n",
        "            predictions += answer\n",
        "\n",
        "    predictions = pandas.DataFrame(predictions)[0].apply(lambda label : \"T\" if label == 1 else \"F\")\n",
        "    predictions.to_csv(\"output.txt\", header=None, index=None)\n",
        "    print(\"predictions written in output.txt\")"
      ],
      "execution_count": null,
      "outputs": []
    },
    {
      "cell_type": "code",
      "metadata": {
        "colab": {
          "base_uri": "https://localhost:8080/"
        },
        "id": "aAf77kcrhS_1",
        "outputId": "3801bc2e-18ef-4050-d6b7-fb94cadaf78c"
      },
      "source": [
        "main()"
      ],
      "execution_count": null,
      "outputs": [
        {
          "output_type": "stream",
          "name": "stdout",
          "text": [
            "60.18808777429467\n",
            "predictions written in output.txt\n"
          ]
        }
      ]
    },
    {
      "cell_type": "code",
      "metadata": {
        "id": "Y3ccWcHDhXfV"
      },
      "source": [
        ""
      ],
      "execution_count": null,
      "outputs": []
    }
  ]
}