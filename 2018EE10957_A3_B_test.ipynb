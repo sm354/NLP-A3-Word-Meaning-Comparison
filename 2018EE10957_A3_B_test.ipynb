{
  "nbformat": 4,
  "nbformat_minor": 0,
  "metadata": {
    "colab": {
      "name": "2018EE10957_A3_B_test.ipynb",
      "provenance": [],
      "collapsed_sections": []
    },
    "kernelspec": {
      "name": "python3",
      "display_name": "Python 3"
    },
    "language_info": {
      "name": "python"
    }
  },
  "cells": [
    {
      "cell_type": "markdown",
      "metadata": {
        "id": "JSkHozvq7gGh"
      },
      "source": [
        "Make a copy of this notebook and rename using your USERID in the following format, 2017CSZ8058\n",
        "\n",
        "Give editor access to keshavkolluru@gmail.com, vishalsaley114@gmail.com and kartikeya.badola@gmail.com\n"
      ]
    },
    {
      "cell_type": "code",
      "metadata": {
        "id": "sPmKrdbC48JU",
        "colab": {
          "base_uri": "https://localhost:8080/"
        },
        "outputId": "36284c62-2dbd-40f6-8222-249d9cc3b658"
      },
      "source": [
        "## DONT CHANGE THIS CELL \n",
        "# this is currently the same as dev.data.txt\n",
        "!wget http://www.cse.iitd.ac.in/~mausam/courses/col772/autumn2021/A3/test.data.txt"
      ],
      "execution_count": null,
      "outputs": [
        {
          "output_type": "stream",
          "name": "stdout",
          "text": [
            "--2021-10-11 15:22:54--  http://www.cse.iitd.ac.in/~mausam/courses/col772/autumn2021/A3/test.data.txt\n",
            "Resolving www.cse.iitd.ac.in (www.cse.iitd.ac.in)... 103.27.9.152\n",
            "Connecting to www.cse.iitd.ac.in (www.cse.iitd.ac.in)|103.27.9.152|:80... connected.\n",
            "HTTP request sent, awaiting response... 301 Moved Permanently\n",
            "Location: https://www.cse.iitd.ac.in/~mausam/courses/col772/autumn2021/A3/test.data.txt [following]\n",
            "--2021-10-11 15:22:55--  https://www.cse.iitd.ac.in/~mausam/courses/col772/autumn2021/A3/test.data.txt\n",
            "Connecting to www.cse.iitd.ac.in (www.cse.iitd.ac.in)|103.27.9.152|:443... connected.\n",
            "HTTP request sent, awaiting response... 200 OK\n",
            "Length: 63639 (62K) [text/plain]\n",
            "Saving to: ‘test.data.txt’\n",
            "\n",
            "test.data.txt       100%[===================>]  62.15K  84.3KB/s    in 0.7s    \n",
            "\n",
            "2021-10-11 15:22:57 (84.3 KB/s) - ‘test.data.txt’ saved [63639/63639]\n",
            "\n"
          ]
        }
      ]
    },
    {
      "cell_type": "code",
      "metadata": {
        "id": "xJv-12oi_zKg",
        "colab": {
          "base_uri": "https://localhost:8080/"
        },
        "outputId": "a1e38bdf-f776-4459-f9e9-36d0a4aa44f5"
      },
      "source": [
        "## Replace with the right link that contains the zip file uploaded from the training\n",
        "!gdown https://drive.google.com/uc?id=14Ij4NX-AWXULDxs0dNM3K8apTB8OCnX9"
      ],
      "execution_count": null,
      "outputs": [
        {
          "output_type": "stream",
          "name": "stdout",
          "text": [
            "Downloading...\n",
            "From: https://drive.google.com/uc?id=14Ij4NX-AWXULDxs0dNM3K8apTB8OCnX9\n",
            "To: /content/2018EE10957_A_model.zip\n",
            "100% 16.7M/16.7M [00:00<00:00, 63.0MB/s]\n"
          ]
        }
      ]
    },
    {
      "cell_type": "code",
      "metadata": {
        "colab": {
          "base_uri": "https://localhost:8080/"
        },
        "id": "BbuJGhU30TxS",
        "outputId": "449e8029-85aa-4e53-806a-bf711cc3ca48"
      },
      "source": [
        "!unzip 2018EE10957_B_model.zip\n",
        "!pip install transformers\n",
        "!pip install datasets"
      ],
      "execution_count": null,
      "outputs": [
        {
          "output_type": "stream",
          "name": "stdout",
          "text": [
            "Archive:  2018EE10957_A_model.zip\n",
            "   creating: 2018EE10957_A_model/\n",
            "  inflating: 2018EE10957_A_model/best-biLSTM-params.pt  \n",
            "  inflating: 2018EE10957_A_model/Field_TEXT  \n"
          ]
        }
      ]
    },
    {
      "cell_type": "code",
      "metadata": {
        "id": "9Sh-Mw6cAIcH"
      },
      "source": [
        "import os\n",
        "import time\n",
        "import random\n",
        "import datetime\n",
        "import numpy as np\n",
        "import pandas\n",
        "from pdb import set_trace\n",
        "import torch\n",
        "import torch.nn as nn\n",
        "\n",
        "from torch.utils.data import Dataset, DataLoader\n",
        "from transformers import AutoTokenizer, AutoModelForSequenceClassification\n",
        "from transformers import Trainer, TrainingArguments\n",
        "from datasets import load_metric"
      ],
      "execution_count": null,
      "outputs": []
    },
    {
      "cell_type": "code",
      "metadata": {
        "id": "E5WS4GJ_Uhgq",
        "colab": {
          "base_uri": "https://localhost:8080/"
        },
        "outputId": "d5fd1305-6d38-4fbe-9b55-d28f42cee666"
      },
      "source": [
        "def process_data(path, train=True, test=False):\n",
        "    if test == True:\n",
        "        x_test = pandas.read_csv(\"test.data.txt\", delimiter='\\t', header=None, names=['word', 'POS', 'position', 'sen1', 'sen2'])\n",
        "        word1 = x_test.loc[:,'position'].apply(lambda positions : positions.split(\"-\")[0])\n",
        "        word2 = x_test.loc[:,'position'].apply(lambda positions : positions.split(\"-\")[1])\n",
        "        x_test = x_test.drop(\"position\", axis=1)\n",
        "        x_test.loc[:, \"POS\"] = x_test.loc[:, \"POS\"].apply(lambda POS_TAG : 0 if POS_TAG==\"V\" else 1)\n",
        "        x_test.insert(3, \"word1\", word1)\n",
        "        x_test.insert(5, \"word2\", word2)\n",
        "        # x_test.to_csv(\"./test.csv\", header=None, index=False)\n",
        "        return x_test\n",
        "    \n",
        "    train = \"train\" if train else \"validation\"\n",
        "    x_train = pandas.read_csv(os.path.join(path, \"%s/%s.data.txt\"%(train, train)), delimiter='\\t', header=None, names=['word', 'POS', 'position', 'sen1', 'sen2'])\n",
        "    y_train = pandas.read_csv(os.path.join(path, \"%s/%s.gold.txt\"%(train, train)), header=None, names=['label'])\n",
        "    dataset = pandas.concat((x_train, y_train), axis=1)\n",
        "    word1 = dataset.loc[:,'position'].apply(lambda positions : positions.split(\"-\")[0])\n",
        "    word2 = dataset.loc[:,'position'].apply(lambda positions : positions.split(\"-\")[1])\n",
        "    dataset = dataset.drop(\"position\", axis=1)\n",
        "    dataset.loc[:, \"POS\"] = dataset.loc[:, \"POS\"].apply(lambda POS_TAG : 0 if POS_TAG==\"V\" else 1)\n",
        "    dataset.loc[:, \"label\"] = dataset.loc[:, \"label\"].apply(lambda lab : 0 if lab==\"F\" else 1)\n",
        "    dataset.insert(3, \"word1\", word1)\n",
        "    dataset.insert(5, \"word2\", word2)\n",
        "    # dataset.to_csv(os.path.join(path, \"%s/%s.csv\"%(train, train)), header=None, index=False)\n",
        "    return dataset\n",
        "\n",
        "class myDataset(Dataset):\n",
        "    def __init__(self, data_dir, max_len=128, train=True, test=False, model_name='bert-base-uncased'):\n",
        "        self.data_dir = data_dir\n",
        "        self.max_len = max_len\n",
        "        self.train = train\n",
        "        self.test = test\n",
        "\n",
        "        # convert raw data into pandas data frame\n",
        "        self.dataset_df = process_data(data_dir, train=train, test=test)\n",
        "\n",
        "        # tokenizer\n",
        "        self.tokenizer = AutoTokenizer.from_pretrained(model_name) # , do_lower_case=True)\n",
        "\n",
        "    def __getitem__(self, index):\n",
        "        sample = self.dataset_df.iloc[index]\n",
        "\n",
        "        x = self.tokenizer(sample['sen1'], sample['sen2'], return_tensors='pt', add_special_tokens=True, \\\n",
        "            max_length=self.max_len, padding='max_length', truncation=True)\n",
        "        if self.test == False:\n",
        "            y = torch.tensor(sample['label'])\n",
        "\n",
        "        # format as required by Train\n",
        "        item = {k: v[0] for k,v in x.items()} # only one datapoint; shape: 128\n",
        "        if self.test == False:\n",
        "            item['labels'] = y\n",
        "        return item\n",
        "    \n",
        "    def __len__(self):\n",
        "        return len(self.dataset_df)"
      ],
      "execution_count": null,
      "outputs": [
        {
          "output_type": "stream",
          "name": "stdout",
          "text": [
            "63.47962382445141\n",
            "predictions written in output.txt\n"
          ]
        }
      ]
    },
    {
      "cell_type": "code",
      "metadata": {
        "id": "Cv5LdVjzRuJC"
      },
      "source": [
        "def set_seed(seed=4):\n",
        "\t# fixing seeds to reproduce results (exact!)\n",
        "\t# torch.backends.cudnn.deterministic = True\n",
        "\ttorch.manual_seed(seed)\n",
        "\trandom.seed(seed)\n",
        "\tnp.random.seed(seed)\n",
        " \n",
        "set_seed()\n",
        "\n",
        "metric = load_metric(\"accuracy\")\n",
        "def compute_metrics_fn(eval_prediction):\n",
        "    logits, labels = eval_prediction\n",
        "    predictions = logits.argmax(axis=-1)\n",
        "    return metric.compute(predictions=predictions, references=labels)"
      ],
      "execution_count": null,
      "outputs": []
    },
    {
      "cell_type": "code",
      "metadata": {
        "id": "7rrZQOiQRuEl"
      },
      "source": [
        "testset = myDataset(args.dataset, max_len=100, train=False, test=True, model_name=args.model_name)"
      ],
      "execution_count": null,
      "outputs": []
    },
    {
      "cell_type": "code",
      "metadata": {
        "id": "kwr_HsoXRt6W"
      },
      "source": [
        "model = AutoModelForSequenceClassification.from_pretrained(\"2018EE10957_B_model/checkpoint-1358/\", num_labels=2)\n",
        "trainer = Trainer(\n",
        "    model=model\n",
        ")"
      ],
      "execution_count": null,
      "outputs": []
    },
    {
      "cell_type": "code",
      "metadata": {
        "id": "UM8PBsPQS6R1"
      },
      "source": [
        "out = trainer.predict(testset)\n",
        "predictions = np.argmax(out[0], axis=-1)\n",
        "predictions = pandas.DataFrame(predictions)[0].apply(lambda label : \"T\" if label == 1 else \"F\")\n",
        "predictions.to_csv(\"output.txt\", header=None, index=None)\n",
        "print(\"predictions written in output.txt\")"
      ],
      "execution_count": null,
      "outputs": []
    },
    {
      "cell_type": "code",
      "metadata": {
        "id": "0-IlAUkv7s1C",
        "colab": {
          "base_uri": "https://localhost:8080/"
        },
        "outputId": "411694ab-3720-4734-ca4d-f10ac8afecdc"
      },
      "source": [
        "## DONT CHANGE THIS CELL\n",
        "# Your testing code must produce a file output.txt with predictions as T and F in each line\n",
        "\n",
        "## Final Evaluation \n",
        "# this is currently the same as dev.gold.txt\n",
        "!wget http://www.cse.iitd.ac.in/~mausam/courses/col772/autumn2021/A3/test.gold.txt\n",
        "correct, total = 0., 0.\n",
        "for prediction, gold in zip(open('output.txt'), open('test.gold.txt')):\n",
        "  prediction, gold = prediction.strip(), gold.strip()\n",
        "  total += 1\n",
        "  if prediction == gold:\n",
        "    correct += 1\n",
        "\n",
        "## Report this as the final validation performance \n",
        "print('Performance = ', (correct/total))"
      ],
      "execution_count": null,
      "outputs": [
        {
          "output_type": "stream",
          "name": "stdout",
          "text": [
            "--2021-10-11 15:25:03--  http://www.cse.iitd.ac.in/~mausam/courses/col772/autumn2021/A3/test.gold.txt\n",
            "Resolving www.cse.iitd.ac.in (www.cse.iitd.ac.in)... 103.27.9.152\n",
            "Connecting to www.cse.iitd.ac.in (www.cse.iitd.ac.in)|103.27.9.152|:80... connected.\n",
            "HTTP request sent, awaiting response... 301 Moved Permanently\n",
            "Location: https://www.cse.iitd.ac.in/~mausam/courses/col772/autumn2021/A3/test.gold.txt [following]\n",
            "--2021-10-11 15:25:04--  https://www.cse.iitd.ac.in/~mausam/courses/col772/autumn2021/A3/test.gold.txt\n",
            "Connecting to www.cse.iitd.ac.in (www.cse.iitd.ac.in)|103.27.9.152|:443... connected.\n",
            "HTTP request sent, awaiting response... 200 OK\n",
            "Length: 1276 (1.2K) [text/plain]\n",
            "Saving to: ‘test.gold.txt’\n",
            "\n",
            "test.gold.txt       100%[===================>]   1.25K  --.-KB/s    in 0s      \n",
            "\n",
            "2021-10-11 15:25:05 (46.8 MB/s) - ‘test.gold.txt’ saved [1276/1276]\n",
            "\n",
            "Performance =  0.6347962382445141\n"
          ]
        }
      ]
    },
    {
      "cell_type": "code",
      "metadata": {
        "id": "8KmCASY_9LaQ"
      },
      "source": [
        ""
      ],
      "execution_count": null,
      "outputs": []
    }
  ]
}