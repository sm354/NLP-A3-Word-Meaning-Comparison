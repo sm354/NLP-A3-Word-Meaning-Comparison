{
 "cells": [
  {
   "cell_type": "markdown",
   "metadata": {
    "id": "JSkHozvq7gGh"
   },
   "source": [
    "Make a copy of this notebook and rename using your USERID in the following format, 2017CSZ8058\n",
    "\n",
    "Give read access to keshavkolluru@gmail.com, vishalsaley114@gmail.com and kartikeya.badola@gmail.com\n"
   ]
  },
  {
   "cell_type": "code",
   "execution_count": 1,
   "metadata": {
    "id": "sPmKrdbC48JU"
   },
   "outputs": [],
   "source": [
    "# ## DONT CHANGE THIS CELL \n",
    "# # this is currently the same as dev.data.txt\n",
    "# !wget http://www.cse.iitd.ac.in/~mausam/courses/col772/autumn2021/A3/test.data.txt"
   ]
  },
  {
   "cell_type": "code",
   "execution_count": null,
   "metadata": {
    "id": "xJv-12oi_zKg"
   },
   "outputs": [],
   "source": [
    "## Replace with the right link that contains the zip file uploaded from the training\n",
    "!gdown https://drive.google.com/uc?id=xxxxxxxxxxx"
   ]
  },
  {
   "cell_type": "code",
   "execution_count": null,
   "metadata": {
    "id": "9Sh-Mw6cAIcH"
   },
   "outputs": [],
   "source": [
    "## YOUR testing code"
   ]
  },
  {
   "cell_type": "code",
   "execution_count": null,
   "metadata": {
    "id": "0-IlAUkv7s1C"
   },
   "outputs": [],
   "source": [
    "## DONT CHANGE THIS CELL\n",
    "# Your testing code must produce a file output.txt with predictions as T and F in each line\n",
    "\n",
    "## Final Evaluation \n",
    "# this is currently the same as dev.gold.txt\n",
    "!wget http://www.cse.iitd.ac.in/~mausam/courses/col772/autumn2021/A3/test.gold.txt\n",
    "correct, total = 0., 0.\n",
    "for prediction, gold in zip(open('output.txt'), open('test.gold.txt')):\n",
    "  prediciton, gold = prediction.strip(), gold.strip()\n",
    "  total += 1\n",
    "  if prediction == gold:\n",
    "    correct += 1\n",
    "\n",
    "## Report this as the final validation performance \n",
    "print('Performance = '%(correct/total))"
   ]
  }
 ],
 "metadata": {
  "colab": {
   "collapsed_sections": [],
   "name": "2018EE10957_A3_A_test.ipynb",
   "provenance": []
  },
  "kernelspec": {
   "display_name": "Python 3 (ipykernel)",
   "language": "python",
   "name": "python3"
  },
  "language_info": {
   "codemirror_mode": {
    "name": "ipython",
    "version": 3
   },
   "file_extension": ".py",
   "mimetype": "text/x-python",
   "name": "python",
   "nbconvert_exporter": "python",
   "pygments_lexer": "ipython3",
   "version": "3.8.11"
  }
 },
 "nbformat": 4,
 "nbformat_minor": 1
}
