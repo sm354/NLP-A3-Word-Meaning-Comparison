{
 "cells": [
  {
   "cell_type": "markdown",
   "metadata": {
    "id": "FWjwfx8T5OAJ"
   },
   "source": [
    "Make a copy of this notebook and rename using your USERID in the following format, 2017CSZ8058\n",
    "\n",
    "Give read access to keshavkolluru@gmail.com, vishalsaley114@gmail.com and kartikeya.badola@gmail.com\n"
   ]
  },
  {
   "cell_type": "code",
   "execution_count": 7,
   "metadata": {
    "id": "spAvH1fF0Rhg"
   },
   "outputs": [],
   "source": [
    "# ## DONT CHANGE THIS CELL\n",
    "# !wget http://www.cse.iitd.ac.in/~mausam/courses/col772/autumn2021/A3/data.zip"
   ]
  },
  {
   "cell_type": "code",
   "execution_count": 2,
   "metadata": {
    "id": "LrnkLN2LzlDB"
   },
   "outputs": [],
   "source": [
    "## Import relevant packages\n",
    "\n",
    "import os\n",
    "\n",
    "import time\n",
    "import datetime\n",
    "\n",
    "import torch\n",
    "import torch.optim as O\n",
    "import torch.nn as nn\n",
    "import torch.nn.functional as F\n",
    "from torch.optim.lr_scheduler import StepLR\n",
    "\n",
    "import logging\n",
    "from argparse import ArgumentParser\n",
    "\n",
    "from pdb import set_trace"
   ]
  },
  {
   "cell_type": "code",
   "execution_count": 23,
   "metadata": {},
   "outputs": [
    {
     "name": "stdout",
     "output_type": "stream",
     "text": [
      "    word POS position                                            sen1  \\\n",
      "0  carry   V      2-1              You must carry your camping gear .   \n",
      "1     go   V      2-6  Messages must go through diplomatic channels .   \n",
      "2  break   V      0-2                                Break an alibi .   \n",
      "3    cup   N      8-4         He wore a jock strap with a metal cup .   \n",
      "\n",
      "                                                sen2 label  \n",
      "0                    Sound carries well over water .     F  \n",
      "1   Do you think the sofa will go through the door ?     F  \n",
      "2  The wholesaler broke the container loads into ...     F  \n",
      "3            Bees filled the waxen cups with honey .     T  \n",
      "['V' 'N'] ['F' 'T']\n"
     ]
    }
   ],
   "source": [
    "import pandas\n",
    "x_train = pandas.read_csv('./data/train/train.data.txt', delimiter='\\t', header=None, names=['word', 'POS', 'position', 'sen1', 'sen2'])\n",
    "y_train = pandas.read_csv('./data/train/train.gold.txt', header=None, names=['label'])\n",
    "train_data = pandas.concat((x_train, y_train), axis=1)\n",
    "print(train_data[:4])\n",
    "print(train_data.POS.unique(), train_data.label.unique())"
   ]
  },
  {
   "cell_type": "code",
   "execution_count": null,
   "metadata": {},
   "outputs": [],
   "source": []
  },
  {
   "cell_type": "code",
   "execution_count": null,
   "metadata": {},
   "outputs": [],
   "source": []
  },
  {
   "cell_type": "code",
   "execution_count": null,
   "metadata": {},
   "outputs": [],
   "source": []
  },
  {
   "cell_type": "code",
   "execution_count": null,
   "metadata": {
    "id": "sr3ok6g51O_d"
   },
   "outputs": [],
   "source": [
    "\n",
    "\n"
   ]
  },
  {
   "cell_type": "code",
   "execution_count": null,
   "metadata": {},
   "outputs": [],
   "source": []
  }
 ],
 "metadata": {
  "accelerator": "GPU",
  "colab": {
   "collapsed_sections": [],
   "name": "2018EE10957_A3_A_train.ipynb",
   "provenance": []
  },
  "kernelspec": {
   "display_name": "Python 3 (ipykernel)",
   "language": "python",
   "name": "python3"
  },
  "language_info": {
   "codemirror_mode": {
    "name": "ipython",
    "version": 3
   },
   "file_extension": ".py",
   "mimetype": "text/x-python",
   "name": "python",
   "nbconvert_exporter": "python",
   "pygments_lexer": "ipython3",
   "version": "3.8.11"
  }
 },
 "nbformat": 4,
 "nbformat_minor": 1
}
